{
 "cells": [
  {
   "cell_type": "code",
   "execution_count": 41,
   "metadata": {
    "collapsed": true
   },
   "outputs": [],
   "source": [
    "from utils import *\n",
    "import nltk\n",
    "from nltk.corpus import stopwords\n",
    "from gensim import corpora, models, similarities\n",
    "from pprint import pprint\n",
    "import numpy as np\n",
    "import gensim"
   ]
  },
  {
   "cell_type": "code",
   "execution_count": 42,
   "metadata": {
    "collapsed": true
   },
   "outputs": [],
   "source": [
    "# replace , . - ( ) / { } | _ to space\n",
    "pos = readdata('data/pos')\n",
    "pos = [replacePunctual(doc) for doc in pos]\n",
    "neg = readdata('data/neg')\n",
    "neg = [replacePunctual(doc) for doc in neg]"
   ]
  },
  {
   "cell_type": "code",
   "execution_count": 43,
   "metadata": {
    "collapsed": true
   },
   "outputs": [],
   "source": [
    "# Normalize to lower\n",
    "pos = [doc.lower() for doc in pos]\n",
    "neg = [doc.lower() for doc in neg]\n",
    "\n",
    "# Tokenize\n",
    "pos_tokens = [nltk.word_tokenize(doc) for doc in pos]\n",
    "neg_tokens = [nltk.word_tokenize(doc) for doc in neg]\n",
    "\n",
    "# lemmatizer\n",
    "wnl = nltk.WordNetLemmatizer()\n",
    "pos_tokens = [[wnl.lemmatize(word) for word in doc_token] for doc_token in pos_tokens]\n",
    "neg_tokens = [[wnl.lemmatize(word) for word in doc_token] for doc_token in neg_tokens]\n",
    "\n",
    "# Get training and testing data\n",
    "trainingX, trainingY, testingX, testingY = split(pos_tokens, neg_tokens)\n",
    "\n",
    "# Get valid words, including Freq(w) > 2 and non-stopwords and satisfy re = [a-zA-Z\\']*\n",
    "# Attention: only training data can be used \n",
    "validwords = genValidWords(trainingX)\n",
    "\n",
    "# Filter invalid words and use a flag to mark new words or invalid words\n",
    "trainingX = [[w if w in validwords else \"#\" for w in doc] for doc in trainingX]\n",
    "testingX = [[w if w in validwords else \"#\" for w in doc] for doc in testingX]\n"
   ]
  },
  {
   "cell_type": "code",
   "execution_count": 44,
   "metadata": {},
   "outputs": [
    {
     "name": "stdout",
     "output_type": "stream",
     "text": [
      "diction length is 15325\n"
     ]
    }
   ],
   "source": [
    "# use gensim to build dictionary\n",
    "dictionary = corpora.Dictionary(trainingX)\n",
    "numOfTerms = len(dictionary.token2id)\n",
    "print(\"diction length is %d\" % (numOfTerms))\n",
    "# print(dictionary.token2id)"
   ]
  },
  {
   "cell_type": "code",
   "execution_count": 45,
   "metadata": {
    "collapsed": true
   },
   "outputs": [],
   "source": [
    "# convert to BOW representation\n",
    "trainingBOW = [dictionary.doc2bow(doc) for doc in trainingX]\n",
    "testingBOW = [dictionary.doc2bow(doc) for doc in testingX]\n",
    "# print(trainingBOW[0])\n"
   ]
  },
  {
   "cell_type": "code",
   "execution_count": 46,
   "metadata": {
    "collapsed": true
   },
   "outputs": [],
   "source": [
    "# TF-IDF\n",
    "tfidf = models.TfidfModel(trainingBOW)\n",
    "trainingTFIDF = tfidf[trainingBOW]\n",
    "testingTFIDF = tfidf[testingBOW]\n",
    "# print(trainingTFIDF[0])"
   ]
  },
  {
   "cell_type": "code",
   "execution_count": 58,
   "metadata": {
    "collapsed": true
   },
   "outputs": [],
   "source": [
    "lsiNumOfTopics = 120\n",
    "# LSI\n",
    "lsi = models.LsiModel(trainingTFIDF, id2word=dictionary, num_topics=lsiNumOfTopics)\n",
    "trainingLSI = lsi[trainingTFIDF]\n",
    "testingLSI = lsi[testingTFIDF]\n",
    "\n",
    "trainingLSI = gensim.matutils.corpus2dense(trainingLSI, num_terms = lsiNumOfTopics).transpose()\n",
    "testingLSI = gensim.matutils.corpus2dense(testingLSI, num_terms = lsiNumOfTopics).transpose()\n",
    "# lsi.print_topics(10)\n"
   ]
  },
  {
   "cell_type": "code",
   "execution_count": 59,
   "metadata": {
    "collapsed": true
   },
   "outputs": [],
   "source": [
    "ldaNumOfTopics = 50\n",
    "#LDA\n",
    "ldaModel = models.LdaModel(trainingBOW, id2word=dictionary, num_topics=ldaNumOfTopics)\n",
    "trainingLDA = ldaModel[trainingBOW]\n",
    "testingLDA = ldaModel[testingBOW]\n",
    "\n",
    "trainingLDA = gensim.matutils.corpus2dense(trainingLDA, num_terms = ldaNumOfTopics).transpose()\n",
    "testingLDA = gensim.matutils.corpus2dense(testingLDA, num_terms = ldaNumOfTopics).transpose()\n",
    "\n",
    "# ldaModel.print_topics(10)"
   ]
  },
  {
   "cell_type": "code",
   "execution_count": null,
   "metadata": {
    "collapsed": true
   },
   "outputs": [],
   "source": [
    "rbmNumOfTopics = 100\n",
    "# RBM\n",
    "from sklearn.neural_network import BernoulliRBM\n",
    "rbm = BernoulliRBM(random_state=0, verbose=True, n_components=rbmNumOfTopics)\n",
    "rbm.fit(X)\n",
    "get_params"
   ]
  },
  {
   "cell_type": "code",
   "execution_count": 60,
   "metadata": {
    "collapsed": true
   },
   "outputs": [],
   "source": [
    "# data Preparation\n",
    "\n",
    "trainingTFIDF_m = gensim.matutils.corpus2dense(trainingTFIDF, num_terms = numOfTerms).transpose()\n",
    "testingTFIDF_m = gensim.matutils.corpus2dense(testingTFIDF, num_terms = numOfTerms).transpose()\n",
    "\n",
    "trainingBOW_m = gensim.matutils.corpus2dense(trainingBOW, num_terms = numOfTerms).transpose()\n",
    "testingBOW_m = gensim.matutils.corpus2dense(testingBOW, num_terms = numOfTerms).transpose()\n",
    "\n",
    "trainingY = np.array(trainingY)\n",
    "testingY = np.array(testingY)\n",
    "\n",
    "from sklearn.metrics import classification_report\n",
    "from sklearn.linear_model import LogisticRegression\n",
    "from sklearn.metrics import confusion_matrix\n",
    "targetNames = ['0', '1']\n"
   ]
  },
  {
   "cell_type": "code",
   "execution_count": 61,
   "metadata": {},
   "outputs": [
    {
     "name": "stdout",
     "output_type": "stream",
     "text": [
      "             precision    recall  f1-score   support\n",
      "\n",
      "          0       0.78      0.86      0.82       283\n",
      "          1       0.86      0.78      0.82       314\n",
      "\n",
      "avg / total       0.82      0.82      0.82       597\n",
      "\n",
      "[[243  40]\n",
      " [ 68 246]]\n"
     ]
    }
   ],
   "source": [
    "# 1. LR for BOW\n",
    "clf_lr_tfidf = LogisticRegression(penalty='l2', tol=0.001)\n",
    "clf_lr_tfidf.fit(trainingBOW_m, trainingY)\n",
    "predicted_lr_tfidf = clf_lr_tfidf.predict(testingBOW_m)\n",
    "print(classification_report(testingY, predicted_lr_tfidf, target_names = targetNames))\n",
    "print(confusion_matrix(testingY, predicted_lr_tfidf))"
   ]
  },
  {
   "cell_type": "code",
   "execution_count": 62,
   "metadata": {},
   "outputs": [
    {
     "name": "stdout",
     "output_type": "stream",
     "text": [
      "             precision    recall  f1-score   support\n",
      "\n",
      "          0       0.77      0.84      0.80       283\n",
      "          1       0.85      0.77      0.81       314\n",
      "\n",
      "avg / total       0.81      0.81      0.81       597\n",
      "\n",
      "[[239  44]\n",
      " [ 72 242]]\n"
     ]
    }
   ],
   "source": [
    "# 2. LR for TF-IDF\n",
    "clf_lr_tfidf = LogisticRegression(penalty='l2', tol=0.001)\n",
    "clf_lr_tfidf.fit(trainingTFIDF_m, trainingY)\n",
    "predicted_lr_tfidf = clf_lr_tfidf.predict(testingTFIDF_m)\n",
    "print(classification_report(testingY, predicted_lr_tfidf, target_names = targetNames))\n",
    "print(confusion_matrix(testingY, predicted_lr_tfidf))\n"
   ]
  },
  {
   "cell_type": "code",
   "execution_count": 64,
   "metadata": {},
   "outputs": [
    {
     "name": "stdout",
     "output_type": "stream",
     "text": [
      "             precision    recall  f1-score   support\n",
      "\n",
      "          0       0.69      0.80      0.74       283\n",
      "          1       0.79      0.68      0.73       314\n",
      "\n",
      "avg / total       0.74      0.74      0.74       597\n",
      "\n"
     ]
    }
   ],
   "source": [
    "# 3. LR for LSI\n",
    "clf_lr_tfidf = LogisticRegression(penalty='l2', tol=0.001)\n",
    "clf_lr_tfidf.fit(trainingLSI, trainingY)\n",
    "predicted_lr_tfidf = clf_lr_tfidf.predict(testingLSI)\n",
    "print(classification_report(testingY, predicted_lr_tfidf, target_names = targetNames))"
   ]
  },
  {
   "cell_type": "code",
   "execution_count": 65,
   "metadata": {},
   "outputs": [
    {
     "name": "stdout",
     "output_type": "stream",
     "text": [
      "             precision    recall  f1-score   support\n",
      "\n",
      "          0       0.48      0.90      0.63       283\n",
      "          1       0.58      0.12      0.20       314\n",
      "\n",
      "avg / total       0.53      0.49      0.41       597\n",
      "\n",
      "[[255  28]\n",
      " [275  39]]\n"
     ]
    }
   ],
   "source": [
    "# 3. LR for LDA\n",
    "clf_lr_tfidf = LogisticRegression(penalty='l2', tol=0.001)\n",
    "clf_lr_tfidf.fit(trainingLDA, trainingY)\n",
    "predicted_lr_tfidf = clf_lr_tfidf.predict(testingLDA)\n",
    "print(classification_report(testingY, predicted_lr_tfidf, target_names = targetNames))\n",
    "print(confusion_matrix(testingY, predicted_lr_tfidf))"
   ]
  },
  {
   "cell_type": "code",
   "execution_count": null,
   "metadata": {
    "collapsed": true
   },
   "outputs": [],
   "source": []
  }
 ],
 "metadata": {
  "kernelspec": {
   "display_name": "Python 3",
   "language": "python",
   "name": "python3"
  },
  "language_info": {
   "codemirror_mode": {
    "name": "ipython",
    "version": 3
   },
   "file_extension": ".py",
   "mimetype": "text/x-python",
   "name": "python",
   "nbconvert_exporter": "python",
   "pygments_lexer": "ipython3",
   "version": "3.5.3"
  }
 },
 "nbformat": 4,
 "nbformat_minor": 2
}
