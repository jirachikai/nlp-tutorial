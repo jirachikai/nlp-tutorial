{
 "cells": [
  {
   "cell_type": "code",
   "execution_count": 2,
   "metadata": {
    "collapsed": true
   },
   "outputs": [],
   "source": [
    "import nltk\n",
    "from nltk.corpus import stopwords\n"
   ]
  },
  {
   "cell_type": "markdown",
   "metadata": {},
   "source": [
    "## Show Stopwords"
   ]
  },
  {
   "cell_type": "code",
   "execution_count": 4,
   "metadata": {},
   "outputs": [
    {
     "name": "stdout",
     "output_type": "stream",
     "text": [
      "['i', 'me', 'my', 'myself', 'we', 'our', 'ours', 'ourselves', 'you', 'your', 'yours', 'yourself', 'yourselves', 'he', 'him', 'his', 'himself', 'she', 'her', 'hers', 'herself', 'it', 'its', 'itself', 'they', 'them', 'their', 'theirs', 'themselves', 'what', 'which', 'who', 'whom', 'this', 'that', 'these', 'those', 'am', 'is', 'are', 'was', 'were', 'be', 'been', 'being', 'have', 'has', 'had', 'having', 'do', 'does', 'did', 'doing', 'a', 'an', 'the', 'and', 'but', 'if', 'or', 'because', 'as', 'until', 'while', 'of', 'at', 'by', 'for', 'with', 'about', 'against', 'between', 'into', 'through', 'during', 'before', 'after', 'above', 'below', 'to', 'from', 'up', 'down', 'in', 'out', 'on', 'off', 'over', 'under', 'again', 'further', 'then', 'once', 'here', 'there', 'when', 'where', 'why', 'how', 'all', 'any', 'both', 'each', 'few', 'more', 'most', 'other', 'some', 'such', 'no', 'nor', 'not', 'only', 'own', 'same', 'so', 'than', 'too', 'very', 's', 't', 'can', 'will', 'just', 'don', 'should', 'now', 'd', 'll', 'm', 'o', 're', 've', 'y', 'ain', 'aren', 'couldn', 'didn', 'doesn', 'hadn', 'hasn', 'haven', 'isn', 'ma', 'mightn', 'mustn', 'needn', 'shan', 'shouldn', 'wasn', 'weren', 'won', 'wouldn']\n"
     ]
    }
   ],
   "source": [
    "print(stopwords.words('english'))"
   ]
  },
  {
   "cell_type": "markdown",
   "metadata": {},
   "source": [
    "# NLP Basic Operation"
   ]
  },
  {
   "cell_type": "code",
   "execution_count": 3,
   "metadata": {
    "collapsed": true
   },
   "outputs": [],
   "source": [
    "sentence = '''Two months from purchase, and I love this thing! \n",
    "Terrific visual display, and a less cluttered desk. \n",
    "Number of USB ports is not adequate for me, and the ports and headphone jack are not conveniently\n",
    "placed for changing in and out, but I improved this with a couple of short extension cables. \n",
    "Otherwise, I'm very happy with this purchase. I don't like!!'''"
   ]
  },
  {
   "cell_type": "markdown",
   "metadata": {},
   "source": [
    "## Tokenize"
   ]
  },
  {
   "cell_type": "code",
   "execution_count": 4,
   "metadata": {
    "scrolled": true
   },
   "outputs": [
    {
     "name": "stdout",
     "output_type": "stream",
     "text": [
      "['Two months from purchase, and I love this thing!', 'Terrific visual display, and a less cluttered desk.', 'Number of USB ports is not adequate for me, and the ports and headphone jack are not conveniently\\nplaced for changing in and out, but I improved this with a couple of short extension cables.', \"Otherwise, I'm very happy with this purchase.\", \"I don't like!\", '!']\n",
      "\n",
      "\n",
      "['Two', 'months', 'from', 'purchase', ',', 'and', 'I', 'love', 'this', 'thing', '!', 'Terrific', 'visual', 'display', ',', 'and', 'a', 'less', 'cluttered', 'desk', '.', 'Number', 'of', 'USB', 'ports', 'is', 'not', 'adequate', 'for', 'me', ',', 'and', 'the', 'ports', 'and', 'headphone', 'jack', 'are', 'not', 'conveniently', 'placed', 'for', 'changing', 'in', 'and', 'out', ',', 'but', 'I', 'improved', 'this', 'with', 'a', 'couple', 'of', 'short', 'extension', 'cables', '.', 'Otherwise', ',', 'I', \"'m\", 'very', 'happy', 'with', 'this', 'purchase', '.', 'I', 'do', \"n't\", 'like', '!', '!']\n"
     ]
    }
   ],
   "source": [
    "sentence_tokens = nltk.sent_tokenize(sentence)\n",
    "print(sentence_tokens)\n",
    "print(\"\\n\")\n",
    "\n",
    "tokens = nltk.word_tokenize(sentence)\n",
    "print(tokens)"
   ]
  },
  {
   "cell_type": "markdown",
   "metadata": {},
   "source": [
    "## n-grams"
   ]
  },
  {
   "cell_type": "code",
   "execution_count": 6,
   "metadata": {},
   "outputs": [
    {
     "name": "stdout",
     "output_type": "stream",
     "text": [
      "[('Two', 'months'), ('months', 'from'), ('from', 'purchase'), ('purchase', ','), (',', 'and'), ('and', 'I'), ('I', 'love'), ('love', 'this'), ('this', 'thing'), ('thing', '!'), ('!', 'Terrific'), ('Terrific', 'visual'), ('visual', 'display'), ('display', ','), (',', 'and'), ('and', 'a'), ('a', 'less'), ('less', 'cluttered'), ('cluttered', 'desk'), ('desk', '.'), ('.', 'Number'), ('Number', 'of'), ('of', 'USB'), ('USB', 'ports'), ('ports', 'is'), ('is', 'not'), ('not', 'adequate'), ('adequate', 'for'), ('for', 'me'), ('me', ','), (',', 'and'), ('and', 'the'), ('the', 'ports'), ('ports', 'and'), ('and', 'headphone'), ('headphone', 'jack'), ('jack', 'are'), ('are', 'not'), ('not', 'conveniently'), ('conveniently', 'placed'), ('placed', 'for'), ('for', 'changing'), ('changing', 'in'), ('in', 'and'), ('and', 'out'), ('out', ','), (',', 'but'), ('but', 'I'), ('I', 'improved'), ('improved', 'this'), ('this', 'with'), ('with', 'a'), ('a', 'couple'), ('couple', 'of'), ('of', 'short'), ('short', 'extension'), ('extension', 'cables'), ('cables', '.'), ('.', 'Otherwise'), ('Otherwise', ','), (',', 'I'), ('I', \"'m\"), (\"'m\", 'very'), ('very', 'happy'), ('happy', 'with'), ('with', 'this'), ('this', 'purchase'), ('purchase', '.')]\n"
     ]
    }
   ],
   "source": [
    "bigrams=nltk.ngrams(tokens,2)\n",
    "print([i for i in bigrams])"
   ]
  },
  {
   "cell_type": "markdown",
   "metadata": {},
   "source": [
    "## stem"
   ]
  },
  {
   "cell_type": "code",
   "execution_count": 7,
   "metadata": {},
   "outputs": [
    {
     "name": "stdout",
     "output_type": "stream",
     "text": [
      "Stemmed by Porter\n",
      "['two', 'month', 'from', 'purchas', ',', 'and', 'I', 'love', 'thi', 'thing', '!', 'terrif', 'visual', 'display', ',', 'and', 'a', 'less', 'clutter', 'desk', '.', 'number', 'of', 'usb', 'port', 'is', 'not', 'adequ', 'for', 'me', ',', 'and', 'the', 'port', 'and', 'headphon', 'jack', 'are', 'not', 'conveni', 'place', 'for', 'chang', 'in', 'and', 'out', ',', 'but', 'I', 'improv', 'thi', 'with', 'a', 'coupl', 'of', 'short', 'extens', 'cabl', '.', 'otherwis', ',', 'I', \"'m\", 'veri', 'happi', 'with', 'thi', 'purchas', '.']\n",
      "\n",
      "\n",
      "Stemmed by Lancaster\n",
      "['two', 'month', 'from', 'purchas', ',', 'and', 'i', 'lov', 'thi', 'thing', '!', 'ter', 'vis', 'display', ',', 'and', 'a', 'less', 'clut', 'desk', '.', 'numb', 'of', 'usb', 'port', 'is', 'not', 'adequ', 'for', 'me', ',', 'and', 'the', 'port', 'and', 'headphon', 'jack', 'ar', 'not', 'conveny', 'plac', 'for', 'chang', 'in', 'and', 'out', ',', 'but', 'i', 'improv', 'thi', 'with', 'a', 'coupl', 'of', 'short', 'extend', 'cabl', '.', 'otherw', ',', 'i', \"'m\", 'very', 'happy', 'with', 'thi', 'purchas', '.']\n"
     ]
    }
   ],
   "source": [
    "# This block is used to show stem\n",
    "porter = nltk.PorterStemmer()\n",
    "print(\"Stemmed by Porter\")\n",
    "print([porter.stem(t) for t in tokens])\n",
    "print(\"\\n\")\n",
    "\n",
    "lancaster = nltk.LancasterStemmer()\n",
    "print(\"Stemmed by Lancaster\")\n",
    "print([lancaster.stem(t) for t in tokens])"
   ]
  },
  {
   "cell_type": "markdown",
   "metadata": {},
   "source": [
    "## lemmatizer"
   ]
  },
  {
   "cell_type": "code",
   "execution_count": 8,
   "metadata": {},
   "outputs": [
    {
     "name": "stdout",
     "output_type": "stream",
     "text": [
      "['Two', 'month', 'from', 'purchase', ',', 'and', 'I', 'love', 'this', 'thing', '!', 'Terrific', 'visual', 'display', ',', 'and', 'a', 'le', 'cluttered', 'desk', '.', 'Number', 'of', 'USB', 'port', 'is', 'not', 'adequate', 'for', 'me', ',', 'and', 'the', 'port', 'and', 'headphone', 'jack', 'are', 'not', 'conveniently', 'placed', 'for', 'changing', 'in', 'and', 'out', ',', 'but', 'I', 'improved', 'this', 'with', 'a', 'couple', 'of', 'short', 'extension', 'cable', '.', 'Otherwise', ',', 'I', \"'m\", 'very', 'happy', 'with', 'this', 'purchase', '.']\n"
     ]
    }
   ],
   "source": [
    "wnl = nltk.WordNetLemmatizer()\n",
    "print([wnl.lemmatize(t) for t in tokens])"
   ]
  },
  {
   "cell_type": "markdown",
   "metadata": {},
   "source": [
    "## POS tagging"
   ]
  },
  {
   "cell_type": "markdown",
   "metadata": {},
   "source": [
    "Detailed meaning of the tags, please refer https://stackoverflow.com/questions/15388831/what-are-all-possible-pos-tags-of-nltk"
   ]
  },
  {
   "cell_type": "code",
   "execution_count": 17,
   "metadata": {},
   "outputs": [
    {
     "name": "stdout",
     "output_type": "stream",
     "text": [
      "[('Two', 'CD'), ('months', 'NNS'), ('from', 'IN'), ('purchase', 'NN'), (',', ','), ('and', 'CC'), ('I', 'PRP'), ('love', 'VBP'), ('this', 'DT'), ('thing', 'NN'), ('!', '.'), ('Terrific', 'NNP'), ('visual', 'JJ'), ('display', 'NN'), (',', ','), ('and', 'CC'), ('a', 'DT'), ('less', 'RBR'), ('cluttered', 'JJ'), ('desk', 'NN'), ('.', '.'), ('Number', 'NNP'), ('of', 'IN'), ('USB', 'NNP'), ('ports', 'NNS'), ('is', 'VBZ'), ('not', 'RB'), ('adequate', 'JJ'), ('for', 'IN'), ('me', 'PRP'), (',', ','), ('and', 'CC'), ('the', 'DT'), ('ports', 'NNS'), ('and', 'CC'), ('headphone', 'NN'), ('jack', 'NN'), ('are', 'VBP'), ('not', 'RB'), ('conveniently', 'RB'), ('placed', 'VBN'), ('for', 'IN'), ('changing', 'VBG'), ('in', 'IN'), ('and', 'CC'), ('out', 'IN'), (',', ','), ('but', 'CC'), ('I', 'PRP'), ('improved', 'VBD'), ('this', 'DT'), ('with', 'IN'), ('a', 'DT'), ('couple', 'NN'), ('of', 'IN'), ('short', 'JJ'), ('extension', 'NN'), ('cables', 'NNS'), ('.', '.'), ('Otherwise', 'RB'), (',', ','), ('I', 'PRP'), (\"'m\", 'VBP'), ('very', 'RB'), ('happy', 'JJ'), ('with', 'IN'), ('this', 'DT'), ('purchase', 'NN'), ('.', '.')]\n"
     ]
    }
   ],
   "source": [
    "tagged = nltk.pos_tag(tokens)\n",
    "print(tagged)\n",
    "\n"
   ]
  },
  {
   "cell_type": "markdown",
   "metadata": {
    "collapsed": true
   },
   "source": [
    "## Chinese Splitting"
   ]
  },
  {
   "cell_type": "code",
   "execution_count": 9,
   "metadata": {},
   "outputs": [
    {
     "name": "stdout",
     "output_type": "stream",
     "text": [
      "Full Mode: 欢迎/ 大家/ 来/ 参加/ 我/ 的/ sharing/ / / 今天/ 我/ 介绍/ 的/ 内容/ 是/ 有关/ 自然/ 自然语言/ 语言/ 处理/ 的/ 技术/ / \n",
      "Default Mode: 欢迎/ 大家/ 来/ 参加/ 我/ 的/ sharing/ ,/  / 今天/ 我/ 介绍/ 的/ 内容/ 是/ 有关/ 自然语言/ 处理/ 的/ 技术/ 。\n"
     ]
    }
   ],
   "source": [
    "# encoding=utf-8\n",
    "import jieba\n",
    "s = \"欢迎大家来参加我的sharing, 今天我介绍的内容是有关自然语言处理的技术。\"\n",
    "fullMode = jieba.cut(s, cut_all=True)\n",
    "print(\"Full Mode: \" + \"/ \".join(fullMode) )\n",
    "\n",
    "defaultMode = jieba.cut(s, cut_all=False)\n",
    "print(\"Default Mode: \" + \"/ \".join(defaultMode) )"
   ]
  },
  {
   "cell_type": "code",
   "execution_count": null,
   "metadata": {
    "collapsed": true
   },
   "outputs": [],
   "source": []
  }
 ],
 "metadata": {
  "kernelspec": {
   "display_name": "Python 3",
   "language": "python",
   "name": "python3"
  },
  "language_info": {
   "codemirror_mode": {
    "name": "ipython",
    "version": 3
   },
   "file_extension": ".py",
   "mimetype": "text/x-python",
   "name": "python",
   "nbconvert_exporter": "python",
   "pygments_lexer": "ipython3",
   "version": "3.5.3"
  }
 },
 "nbformat": 4,
 "nbformat_minor": 2
}
